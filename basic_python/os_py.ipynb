{
 "cells": [
  {
   "cell_type": "markdown",
   "metadata": {},
   "source": [
    "## os模块概述\n",
    "python os模块包含普遍的操作系统功能。\n",
    "\n",
    "## os模块作用\n",
    "可以处理文件和目录这些我们日常手动需要做的操作。如果你希望你的程序能够与平台无关的话，这个模块尤为重要。\n",
    "\n",
    "## 常用方法\n",
    "1. os.name\n",
    "输出字符串指示正在使用的平台。如果是window则用'nt',如果是linux则用'posix'\n",
    "\n",
    "2. os.getcwd()\n",
    "函数得到当前工作目录，即当前python脚本工作的目录路径\n",
    "\n",
    "3. os.listdir()\n",
    "返回指定目录下的所有文件和目录名\n",
    "\n",
    "4. os.remove(file)\n",
    "删除一个文件\n",
    "\n",
    "5. os.system()\n",
    "运行shell命令,返回0或1\n",
    "\n",
    "6. os.sep 可以取代操作系统特定的路径分隔符\n",
    "\n",
    "7. os.linesep 字符串给出当前平台使用的行终止符\n",
    "\n",
    "8. os.path.split()\n",
    "函数返回一个路径的目录名和文件名\n",
    "\n",
    "9. os.path.isfile()和os.path.isdir()函数分别检验给出路径是一个文件还是目录\n",
    "\n",
    "10. os.path.exists() 函数判断给出路径是否存在\n",
    "\n",
    "11. os.path.abspath(name) 函数返回给出路径的绝对路径\n",
    "\n",
    "12. os.path.normpath(path) 规范化path字符串形式\n",
    "\n",
    "13. os.path.getsize(name) 获取文件大小，如果name是目录则返0，如果没有改文件则会报错\n",
    "\n",
    "14. os.path.splitext() 分离文件名和扩展名，并不会判别后缀是否正确，返回一个元组\n",
    "\n",
    "15. os.path.join(path, name) 连接目录与文件名或目录\n",
    "\n",
    "16. os.path.basename(path) 返回返回文件名\n",
    "\n",
    "17. os.path.dirname(path) 返回文件路径\n",
    "\n",
    "\n"
   ]
  },
  {
   "cell_type": "code",
   "execution_count": 17,
   "metadata": {},
   "outputs": [
    {
     "name": "stdout",
     "output_type": "stream",
     "text": [
      "nt\n",
      "e:\\转用表\\notebook\\basic_python\n",
      "['generator_iterator.ipynb', 'img', 'os_py.ipynb']\n"
     ]
    },
    {
     "data": {
      "text/plain": [
       "1"
      ]
     },
     "execution_count": 17,
     "metadata": {},
     "output_type": "execute_result"
    }
   ],
   "source": [
    "import os\n",
    "\n",
    "print(os.name)\n",
    "# nt\n",
    "\n",
    "print(os.getcwd())\n",
    "# e:\\转用表\\notebook\\basic_python\n",
    "\n",
    "print(os.listdir())\n",
    "# ['generator_iterator.ipynb', 'img', 'os_py.ipynb']\n",
    "\n",
    "name = os.listdir(os.getcwd())\n",
    "# os.remove('test.txt')\n",
    "# print(name)"
   ]
  },
  {
   "cell_type": "code",
   "execution_count": 49,
   "metadata": {},
   "outputs": [
    {
     "name": "stdout",
     "output_type": "stream",
     "text": [
      "\\\n",
      "\n",
      " \\\n",
      "('e:\\\\转用表\\\\notebook', 'basic_python')\n",
      "True\n",
      "True\n"
     ]
    }
   ],
   "source": [
    "import os\n",
    "\n",
    "os.listdir(os.getcwd())\n",
    "os.system('cd e:/r && mkdir aa')\n",
    "\n",
    "print(os.sep)\n",
    "\n",
    "print(os.linesep, os.sep)\n",
    "\n",
    "print(os.path.split(os.getcwd()))\n",
    "\n",
    "print(os.path.isdir(os.getcwd()))\n",
    "\n",
    "print(os.path.isdir(r\"e:\\转用表\\notebook\\basic_python\"))\n",
    "\n"
   ]
  },
  {
   "cell_type": "code",
   "execution_count": 69,
   "metadata": {},
   "outputs": [
    {
     "name": "stdout",
     "output_type": "stream",
     "text": [
      "True\n",
      "e:\\转用表\\notebook\\basic_python\\1.txt\n",
      "1.doc\n",
      "7599\n",
      "a\n"
     ]
    }
   ],
   "source": [
    "import os\n",
    "\n",
    "print(os.path.exists(r\"e:\\转用表\\notebook\\basic_python\"))\n",
    "# True\n",
    "\n",
    "print(os.path.abspath('1.txt'))  # 获取绝对路径， 当前目录的绝对路径加上传入的文件名\n",
    "\n",
    "print(os.path.normpath(\"1.doc\"))\n",
    "\n",
    "print(os.path.getsize('generator_iterator.ipynb'))\n",
    "\n",
    "print(os.path.splitext('a.xtxt')[0])\n",
    "\n",
    "# 集合类型没有下标\n",
    "# a = set([1, 2, 3, 3])\n",
    "# print(a)\n",
    "# print(a[1])"
   ]
  },
  {
   "cell_type": "code",
   "execution_count": 77,
   "metadata": {},
   "outputs": [
    {
     "name": "stdout",
     "output_type": "stream",
     "text": [
      "a.txt\n",
      "basic_python\n",
      "e:\\转用表\\notebook\n"
     ]
    }
   ],
   "source": [
    "import os\n",
    "\n",
    "os.path.join(os.getcwd(), 'a.txt') # 返回一个组合成的文件\n",
    "\n",
    "os.path.join(os.getcwd(), 'ff') # 返回一个组合成的文件目录\n",
    "\n",
    "print(os.path.basename('a.txt'))\n",
    "\n",
    "print(os.path.basename(os.getcwd()))\n",
    "\n",
    "print(os.path.dirname(os.getcwd()))"
   ]
  },
  {
   "cell_type": "markdown",
   "metadata": {},
   "source": [
    "os.open()\n",
    "os.read()\n",
    "os.close()\n",
    "os.remove() 移除文件\n",
    "os.rmdir() 移除目录\n",
    "- os.mkdir(path, mode=0o777, *, dir_fd=None)\n",
    "创建一个名为path的目录，应用数字表示权限模式mode\n",
    "\n",
    "- os.makedirs(name, mode=0o77, *, exist_ok=False)\n",
    "递归目录创建函数，但会自动创建到达最后一级目录所需要的中间目录\n",
    "\n",
    "- os.rename(src, dst, *, src_dir_fd=None, dst_dir_fd=None)\n",
    "将文件或目录src重命名为dst。如果dst已存在，则下列情况下将会操作失败，并抛出OSError的子类。\n",
    "\n",
    "- os.replace(src, dst, *, src_dir_fd=None, dst_dir_fd=None)\n",
    "将文件或目录src重命名为dst。如果dst是非空目录，将抛出OSError异常。如果 dst 已存在且为文件，则在用户具有权限的情况下，将对其进行静默替换。\n",
    "\n",
    "- os.truncate(path, length)\n",
    "截断path对应的文件，以使其最大为length字节\n",
    "\n",
    "- os.walk(top, topdown=True, onerror=None, followlinks=False)\n",
    "生成目录树中的文件名，方式是按上->下或下->上顺序浏览目录树。对于以top为根的目录树中的每个目录（包含top本身），他都会生成一个三元组(dirpath, dirnames, filenames)。\n"
   ]
  },
  {
   "cell_type": "code",
   "execution_count": 29,
   "metadata": {},
   "outputs": [
    {
     "name": "stdout",
     "output_type": "stream",
     "text": [
      "[]\n",
      "['1.txt']\n"
     ]
    }
   ],
   "source": [
    "import os\n",
    "\n",
    "# os.makedirs('e:/转用表/new/new1')\n",
    "# os.remove('e:/转用表/new/1.txt')\n",
    "# os.rmdir(\"e:/转用表/new/new1\")\n",
    "# os.mkdir(\"e:/转用表/new/new1\")\n",
    "# os.removedirs(\"e:/转用表/new/new1\")\n",
    "# os.rename(\"e:/转用表/new/new1\", \"e:/转用表/new/newb\")\n",
    "\n",
    "os.truncate(\"e:/转用表/new/newb/1.txt\", 1) # 直接在文件上面动手\n",
    "\n",
    "for x, y, z in os.walk(\"e:/转用表/new\"):\n",
    "    print(z)\n",
    "# 返回的三元组，分别是\n",
    "# 所有目录 root\n",
    "# 所有root对应子目录\n",
    "# 路径对应所有文件\n"
   ]
  },
  {
   "cell_type": "markdown",
   "metadata": {},
   "source": [
    "## os.path\n",
    "\n",
    "实现了一些有用的路径名称的相关函数。"
   ]
  },
  {
   "cell_type": "markdown",
   "metadata": {},
   "source": [
    "- os.path.abspath(path)\n",
    "返回path的绝对路径。\n",
    "\n",
    "- os.path.basename(path)\n",
    "返回路径path的基本名称。\n",
    "\n",
    "- os.path.commonpath(paths)\n",
    "接受包含多个路径的序列paths，返回paths的最长公共子路径。\n",
    "\n",
    "- os.path.commonprefix(list)\n",
    "接受包含多个路径的列表，返回所有路径的最长公共前缀。如果列表为空，则返回空字符串。\n",
    "\n",
    "- os.path.dirname(path)\n",
    "返回路径path的目录名称。\n",
    "\n",
    "- os.path.exists(path)\n",
    "返回是否存在某个路径path。\n",
    "\n",
    "- os.path.getatime(path)\n",
    "返回path最后访问时间。\n",
    "\n",
    "- os.path.getmtime(path)\n",
    "返回最后修改时间。\n",
    "\n",
    "- os.path.getsize(path)\n",
    "返回path的大小。\n",
    "\n",
    "- os.path.isabs(path)\n",
    "如果path是绝对路径，返回True。\n",
    "\n",
    "- os.path.isfile(path)\n",
    "path是现有的文件，则返回True。\n",
    "\n",
    "- os.path.isdir(path)\n",
    "path是现有的目录，则返回True。\n",
    "\n",
    "- os.path.islink(path)\n",
    "如果path指向的现有目录条目是一个符号连接，则返回True。\n",
    "\n",
    "- os.path.join(path, *paths)\n",
    "\n",
    "- os.path.split(path)\n",
    "将路径path拆分为一对，即（head, tail），其中head是出最后一部分外所有内容，tail是path的最后一部分。\n",
    "\n",
    "- os.path.splitext(path)\n",
    "\n",
    "\n"
   ]
  },
  {
   "cell_type": "code",
   "execution_count": 31,
   "metadata": {},
   "outputs": [
    {
     "name": "stdout",
     "output_type": "stream",
     "text": [
      "/usr/l\n",
      "\\usr\n"
     ]
    }
   ],
   "source": [
    "import os\n",
    "\n",
    "print(os.path.commonprefix(['/usr/lib', '/usr/local/lib']))\n",
    "print(os.path.commonpath(['/usr/lib', '/usr/local/lib']))"
   ]
  }
 ],
 "metadata": {
  "kernelspec": {
   "display_name": "Python 3.8.10 64-bit",
   "language": "python",
   "name": "python3"
  },
  "language_info": {
   "codemirror_mode": {
    "name": "ipython",
    "version": 3
   },
   "file_extension": ".py",
   "mimetype": "text/x-python",
   "name": "python",
   "nbconvert_exporter": "python",
   "pygments_lexer": "ipython3",
   "version": "3.8.10"
  },
  "orig_nbformat": 4,
  "vscode": {
   "interpreter": {
    "hash": "865d8b2eb28e274047ba64063dfb6a2aabf0dfec4905d304d7a76618dae6fdd4"
   }
  }
 },
 "nbformat": 4,
 "nbformat_minor": 2
}
