{
 "cells": [
  {
   "cell_type": "markdown",
   "metadata": {},
   "source": [
    "### 一、变量的作用域\n",
    "1. local(局部变量)\n",
    "2. enclosed(嵌套)\n",
    "3. global(全局)\n",
    "4. build-in(内置)\n",
    "\n",
    "### 二、变量使用规则\n",
    "### 三、变量的修改\n",
    "1. global修改全局变量\n",
    "2. nolocal修改外层函数变量"
   ]
  },
  {
   "cell_type": "code",
   "execution_count": 10,
   "metadata": {},
   "outputs": [
    {
     "name": "stdout",
     "output_type": "stream",
     "text": [
      "2\n"
     ]
    }
   ],
   "source": [
    "# local 局部变量，暂时存在，依赖于创建该局部作用域的函数。\n",
    "def fun():\n",
    "    b = 2\n",
    "    print(b)\n",
    "fun()\n",
    "# print(b)"
   ]
  },
  {
   "cell_type": "code",
   "execution_count": 11,
   "metadata": {},
   "outputs": [
    {
     "name": "stdout",
     "output_type": "stream",
     "text": [
      "这是fun1打印的: 2\n",
      "这是fun2打印的: 2\n"
     ]
    }
   ],
   "source": [
    "# enclosed 一般是在函数中嵌套函数的时候，外层函数的变量作用域\n",
    "def fun1():\n",
    "    b = 2\n",
    "    print('这是fun1打印的:', b)\n",
    "    def fun2():\n",
    "        print('这是fun2打印的:', b)\n",
    "    return fun2\n",
    "temp = fun1()\n",
    "temp()\n",
    "\n",
    "# fun2中没有定义变量b，但是它能够引用外层函数fun1定义的b变量"
   ]
  },
  {
   "cell_type": "code",
   "execution_count": 12,
   "metadata": {},
   "outputs": [
    {
     "name": "stdout",
     "output_type": "stream",
     "text": [
      "这是fun1打印的: 2\n",
      "2\n"
     ]
    }
   ],
   "source": [
    "# global 一般模块文件顶层生命的变量具有全局作用域，从外部来看，模块的全局变量就是一个模块对象的属性，仅限于单个模块文件中\n",
    "a = 2\n",
    "def fun1():\n",
    "    print('这是fun1打印的:', a)\n",
    "fun1()\n",
    "print(a)"
   ]
  },
  {
   "cell_type": "code",
   "execution_count": 13,
   "metadata": {},
   "outputs": [
    {
     "name": "stdout",
     "output_type": "stream",
     "text": [
      "我是全局变量\n",
      "我是全局变量，但是我在局部作用域里\n"
     ]
    }
   ],
   "source": [
    "# global 全局变量的修改\n",
    "a = '我是全局变量'\n",
    "def fun1():\n",
    "    global a\n",
    "    a = '我是全局变量，但是我在局部作用域里'\n",
    "print(a)\n",
    "fun1()\n",
    "print(a)"
   ]
  },
  {
   "cell_type": "code",
   "execution_count": 16,
   "metadata": {},
   "outputs": [
    {
     "name": "stdout",
     "output_type": "stream",
     "text": [
      "我是fun1的变量\n",
      "我是fun2的变量\n"
     ]
    }
   ],
   "source": [
    "# nonlocal修改外层函数变量\n",
    "# 在函数嵌套函数时，嵌套在里面的函数创建的作用域内一般也是不允许修改外层函数变量的值的，除非是nonlocal关键字声明。\n",
    "def fun1():\n",
    "    a = '我是fun1的变量'\n",
    "    print(a)\n",
    "    def fun2():\n",
    "        nonlocal a\n",
    "        a = '我是fun2的变量'\n",
    "        print(a)\n",
    "    return fun2\n",
    "\n",
    "fun1()()"
   ]
  },
  {
   "cell_type": "code",
   "execution_count": 24,
   "metadata": {},
   "outputs": [
    {
     "name": "stdout",
     "output_type": "stream",
     "text": [
      "1111\n",
      "我是全局变量\n"
     ]
    }
   ],
   "source": [
    "a = '我是全局变量'\n",
    "def fun1():\n",
    "    # global a\n",
    "    # a = '我是fun1的变量'\n",
    "    # print(a)\n",
    "    a = '1111'\n",
    "    def fun2():\n",
    "        print(a)\n",
    "    return fun2\n",
    "\n",
    "fun1()()\n",
    "print(a)\n",
    "\n",
    "# 1. nonlocal 只有在上一级嵌套的作用域中能找到对应变量才能使用\n",
    "# 2. 局部作用域内可以定义和全局作用域名字一样的变量"
   ]
  },
  {
   "cell_type": "code",
   "execution_count": 4,
   "metadata": {},
   "outputs": [
    {
     "name": "stdout",
     "output_type": "stream",
     "text": [
      "100\n",
      "hello\n",
      "True\n"
     ]
    }
   ],
   "source": [
    "def foo():\n",
    "    b = 'hello'\n",
    "\n",
    "    # python中可以在函数内部再定义函数\n",
    "    def bar():\n",
    "        c = True\n",
    "        print(a)\n",
    "        print(b)\n",
    "        print(c)\n",
    "    bar()\n",
    "    # print(c) # c is no define\n",
    "\n",
    "if __name__ == \"__main__\":\n",
    "    a = 100\n",
    "    foo()\n",
    "    # print(b) # b is no define"
   ]
  },
  {
   "cell_type": "markdown",
   "metadata": {},
   "source": [
    "在上面的代码能够顺利执行并且打印出100、hello和True，但是可以注意到，在bar函数中并没有定义a和b，那么a和b是从哪里来的呢？事实上，python在查找一个变量按照“局部作用域”，“嵌套作用域”，“全局作用域”和“内置作用域”的顺序搜索。"
   ]
  },
  {
   "cell_type": "code",
   "execution_count": 5,
   "metadata": {},
   "outputs": [
    {
     "name": "stdout",
     "output_type": "stream",
     "text": [
      "200\n",
      "100\n"
     ]
    }
   ],
   "source": [
    "def foo():\n",
    "    a = 200\n",
    "    print(a) # 200\n",
    "\n",
    "if __name__ == \"__main__\":\n",
    "    a = 100\n",
    "    foo()\n",
    "    print(a) # 100\n",
    "\n",
    "    # 局部作用域能够搜索到对应变量的值就不会继续去全局搜索"
   ]
  },
  {
   "cell_type": "code",
   "execution_count": 7,
   "metadata": {},
   "outputs": [
    {
     "name": "stdout",
     "output_type": "stream",
     "text": [
      "200\n",
      "200\n"
     ]
    }
   ],
   "source": [
    "def foo():\n",
    "    global a\n",
    "    a = 200\n",
    "    print(a)\n",
    "\n",
    "if __name__ == \"__main__\":\n",
    "    a = 100\n",
    "    foo()\n",
    "    print(a)\n",
    "\n",
    "# global a 将a声明为全局变量，使得它在局部作用域发生的改变同步到了全局作用域里"
   ]
  }
 ],
 "metadata": {
  "kernelspec": {
   "display_name": "Python 3.8.10 64-bit",
   "language": "python",
   "name": "python3"
  },
  "language_info": {
   "codemirror_mode": {
    "name": "ipython",
    "version": 3
   },
   "file_extension": ".py",
   "mimetype": "text/x-python",
   "name": "python",
   "nbconvert_exporter": "python",
   "pygments_lexer": "ipython3",
   "version": "3.8.10"
  },
  "orig_nbformat": 4,
  "vscode": {
   "interpreter": {
    "hash": "865d8b2eb28e274047ba64063dfb6a2aabf0dfec4905d304d7a76618dae6fdd4"
   }
  }
 },
 "nbformat": 4,
 "nbformat_minor": 2
}
