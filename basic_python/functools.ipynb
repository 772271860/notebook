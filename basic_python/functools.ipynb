{
 "cells": [
  {
   "cell_type": "markdown",
   "metadata": {},
   "source": [
    "**functools** 高阶函数和可调用对象上的操作\n",
    "\n",
    "functools 模块应用于高阶函数，即参数或（和）返回值为其他函数的函数。通常来说，此模块公衡适用于所有可调用对象。"
   ]
  },
  {
   "cell_type": "code",
   "execution_count": 2,
   "metadata": {},
   "outputs": [],
   "source": [
    "# @functools.cache(user_function)\n",
    "'''\n",
    "简单轻量级未绑定函数缓存。\n",
    "返回值与 lru_cache(maxsize=None) 相同，创建一个查找函数参数的字典的简单包装器。 \n",
    "因为它不需要移出旧值，所以比带有大小限制的 lru_cache() 更小更快。\n",
    "'''\n",
    "import functools\n",
    "@functools.lru_cache\n",
    "def factorial(n):\n",
    "    return n * factorial(n-1) if n else 1\n",
    "\n",
    "factorial(10)\n",
    "\n",
    "\n",
    "# @functools.cached_property(func)\n",
    "'''\n",
    "将一个类方法转换为特征属性，一次性计算该特征属性的值，然后将其缓存为实例生命周期内的普通属性。 \n",
    "类似于 property() 但增加了缓存功能。 \n",
    "对于在其他情况下实际不可变的高计算资源消耗的实例特征属性来说该函数非常有用。\n",
    "'''\n",
    "import statistics\n",
    "class DataSet:\n",
    "    def __init__(self, sequence_of_numbers) -> None:\n",
    "        self._data = tuple(sequence_of_numbers)\n",
    "\n",
    "    @functools.cached_property\n",
    "    def stdev(self):\n",
    "        return statistics.stdev(self._data)\n",
    "'''\n",
    "cached_property() 的设定与 property() 有所不同。 \n",
    "常规的 property 会阻止属性写入，除非定义了 setter。 \n",
    "与之相反，cached_property 则允许写入。\n",
    "\n",
    "cached_property 装饰器仅在执行查找且不存在同名属性时才会运行。\n",
    " 当运行时，cached_property 会写入同名的属性。\n",
    "  后续的属性读取和写入操作会优先于 cached_property 方法，其行为就像普通的属性一样。\n",
    "\n",
    "缓存的值可通过删除该属性来清空。\n",
    " 这允许 cached_property 方法再次运行。\n",
    "\n",
    "注意，这个装饰器会影响 PEP 412 键共享字典的操作。 \n",
    "这意味着相应的字典实例可能占用比通常时更多的空间。\n",
    "\n",
    "而且，这个装饰器要求每个实例上的 __dict__ 是可变的映射。 \n",
    "这意味着它将不适用于某些类型，例如元类（因为类型实例上的 __dict__ 属性是类命名空间的只读代理），\n",
    "以及那些指定了 __slots__ 但未包括 __dict__ 作为所定义的空位之一的类（因为这样的类根本没有提供 __dict__ 属性）。\n",
    "\n",
    "如果可变的映射不可用或者如果想要节省空间的键共享，\n",
    "可以通过在 cache() 之上堆叠一个 property() 来实现类似 cached_property() 的效果:\n",
    "'''"
   ]
  },
  {
   "cell_type": "code",
   "execution_count": 33,
   "metadata": {},
   "outputs": [
    {
     "data": {
      "text/plain": [
       "8"
      ]
     },
     "execution_count": 33,
     "metadata": {},
     "output_type": "execute_result"
    }
   ],
   "source": [
    "# functools.cmp_to_key(func)\n",
    "from functools import cmp_to_key\n",
    "import locale\n",
    "'''\n",
    "将(旧式的)比较函数转换为新式的 key function . \n",
    "在类似于 sorted() ， min() ， max() ， \n",
    "heapq.nlargest() ， heapq.nsmallest() ， itertools.groupby() 等函数的 key 参数中使用。\n",
    "比较函数是可调用的，接受两个参数，比较这两个参数，例如：x,y 当x>y时返回1；等于时返回0；否则返回-1。\n",
    "关键字函数也是可调用的，接受一个参数，同时返回一个可以用作排序关键字的值。\n",
    "采用cmp_to_key()函数，可以接受两个参数，将两个参数做处理，例如：作和 作差等，转换成一个参数，即可应用于关键字函数。\n",
    "'''\n",
    "sorted('abc', key=cmp_to_key(locale.strcoll))\n",
    "d = {'a':4, 'b': 2}\n",
    "sorted(d.items(), key=lambda x: x[1])\n",
    "# 当两者比较为正数交换位置，0 或 -1 不交换位置。\n",
    "sorted([2, 1, 5, 3], key=cmp_to_key(lambda x, y: y - x))\n",
    "sorted(d.items(), key=cmp_to_key(lambda x, y: x[1] - y[1]))\n",
    "min([2, 3, 1, 3, 8], key=cmp_to_key(lambda x, y: y - x))\n",
    "max([2, 3, 1, 3, 8], key=cmp_to_key(lambda x, y: x - y))"
   ]
  },
  {
   "cell_type": "code",
   "execution_count": 39,
   "metadata": {},
   "outputs": [
    {
     "data": {
      "text/plain": [
       "True"
      ]
     },
     "execution_count": 39,
     "metadata": {},
     "output_type": "execute_result"
    }
   ],
   "source": [
    "# @functools.total_ordering\n",
    "'''\n",
    "给定一个声明一个或多个全比较排序方法的类，这个类装饰器实现剩余的方法。\n",
    "减轻了指定所有可能的全比较操作的工作。\n",
    "此类必须包含以下方法之一：__lt__() 、__le__()、__gt__() 或 __ge__()。\n",
    "另外，此类必须支持 __eq__() 方法。\n",
    "'''\n",
    "from functools import total_ordering\n",
    "@total_ordering\n",
    "class Student:\n",
    "    def _is_valid_operand(self, other):\n",
    "        return (hasattr(other, \"lastname\") and\n",
    "                hasattr(other, \"firstname\"))\n",
    "    def __eq__(self, other):\n",
    "        if not self._is_valid_operand(other):\n",
    "            return NotImplemented\n",
    "        return ((self.lastname.lower(), self.firstname.lower()) ==\n",
    "                (other.lastname.lower(), other.firstname.lower()))\n",
    "    def __lt__(self, other):\n",
    "        if not self._is_valid_operand(other):\n",
    "            return NotImplemented\n",
    "        return ((self.lastname.lower(), self.firstname.lower()) <\n",
    "                (other.lastname.lower(), other.firstname.lower()))\n",
    "\n",
    "a = Student()\n",
    "a.lastname = 'b'\n",
    "a.firstname= 'c'\n",
    "b = Student()\n",
    "b.lastname = 'a'\n",
    "b.firstname= 'a'\n",
    "a > b"
   ]
  },
  {
   "cell_type": "code",
   "execution_count": 45,
   "metadata": {},
   "outputs": [
    {
     "data": {
      "text/plain": [
       "False"
      ]
     },
     "execution_count": 45,
     "metadata": {},
     "output_type": "execute_result"
    }
   ],
   "source": [
    "from functools import total_ordering\n",
    "@total_ordering\n",
    "class Student:\n",
    "    def _is_valid_operand(self, other):\n",
    "        return (hasattr(other, \"lastname\") and\n",
    "                hasattr(other, \"firstname\"))\n",
    "    def __eq__(self, other):\n",
    "        if not self._is_valid_operand(other):\n",
    "            return NotImplemented\n",
    "    def __lt__(self, other):\n",
    "        if not self._is_valid_operand(other):\n",
    "            return NotImplemented\n",
    "        return ((self.lastname.upper(), self.firstname.lower()) <\n",
    "                 (other.lastname.upper(), self.firstname.lower()))\n",
    "\n",
    "a = Student()\n",
    "a.lastname = 'b'\n",
    "a.firstname= 'c'\n",
    "b = Student()\n",
    "b.lastname = 'c'\n",
    "b.firstname = 'c'\n",
    "a >= b"
   ]
  },
  {
   "cell_type": "code",
   "execution_count": 53,
   "metadata": {},
   "outputs": [
    {
     "data": {
      "text/plain": [
       "[(11, 22, 'beijing')]"
      ]
     },
     "execution_count": 53,
     "metadata": {},
     "output_type": "execute_result"
    }
   ],
   "source": [
    "# functools.partial(func, /, *args, **keywards)\n",
    "\"\"\"\n",
    "返回一个新的 partial 对象，当被调用时其行为类似于 func 附带位置参数 args 和关键字参数\n",
    "keywords 被调用。如果为调用提供了更多的参数，他们会被附加到args。如果提供了额外的关键字\n",
    "参数，他们会扩展并重载 keywords。大致等价于：\n",
    "\"\"\"\n",
    "def partial(func, /, *args, **keywords):\n",
    "    def newfunc(*fargs, **fkeywords):\n",
    "        newkeywords = {**keywords, **fkeywords}\n",
    "        return func(*args, *fargs, **newkeywords)\n",
    "    newfunc.func = func\n",
    "    newfunc.args = args\n",
    "    newfunc.keywords = keywords\n",
    "    return newfunc\n",
    "\"\"\"\n",
    "总的来说，就是将一个已有的函数或对象,固定某些参数，形成一个新的函数或对象。\n",
    "\"\"\"\n",
    "def test(name, age, *args, city=None,**kws):\n",
    "    name = name\n",
    "    age = age\n",
    "    city = city\n",
    "    yield tuple([name, age, city])\n",
    "\n",
    "list(test(1, 2, city='g'))\n",
    "from functools import partial\n",
    "newtest = partial(test, city='beijing')\n",
    "list(newtest(11, 22))"
   ]
  },
  {
   "cell_type": "code",
   "execution_count": 59,
   "metadata": {},
   "outputs": [
    {
     "data": {
      "text/plain": [
       "False"
      ]
     },
     "execution_count": 59,
     "metadata": {},
     "output_type": "execute_result"
    }
   ],
   "source": [
    "# functools.partialmethod(func, /, *args, **keywords)\n",
    "\"\"\"\n",
    "返回一个新的 partialmethod 描述器，\n",
    "其行为类似 partial 但它被设计用作方法定义而非直接用作可调用对象。\n",
    "\n",
    "func 必须是一个 descriptor 或可调用对象（同属两者的对象例如普通函数会被当作描述器来处理）。\n",
    "\n",
    "当 func 是一个描述器\n",
    "（例如普通 Python 函数, classmethod(), staticmethod(), abstractmethod() 或其他 partialmethod 的实例）时, \n",
    "对 __get__ 的调用会被委托给底层的描述器，并会返回一个适当的 部分对象 作为结果。\n",
    "\n",
    "当 func 是一个非描述器类可调用对象时，则会动态创建一个适当的绑定方法。\n",
    "当用作方法时其行为类似普通 Python 函数：将会插入 self 参数作为第一个位置参数，\n",
    "其位置甚至会处于提供给 partialmethod 构造器的 args 和 keywords 之前。\n",
    "\"\"\"\n",
    "from functools import partialmethod\n",
    "class Cell:\n",
    "    def __init__(self) -> None:\n",
    "        self._alive = False\n",
    "    @property\n",
    "    def alive(self):\n",
    "        return self._alive\n",
    "    @alive.setter  \n",
    "    def alive(self, _alive):\n",
    "        self._alive = _alive\n",
    "\n",
    "    def set_stat(self, state):\n",
    "        self._alive = bool(state)\n",
    "\n",
    "    set_alive = partialmethod(set_stat, True)\n",
    "    set_dead = partialmethod(set_stat, False)\n",
    "c = Cell()\n",
    "c.alive\n",
    "c.set_alive()\n",
    "c.alive\n",
    "# Cell.set_dead(c)\n",
    "# c.alive\n",
    "\n",
    "\"\"\" \n",
    "小结一下，就是在类里面使用，能替代一个属性的setter属性，\n",
    "从个人来看，一般是在能设置属性较少的时候使用，两三个的时候。\n",
    "\"\"\""
   ]
  },
  {
   "cell_type": "code",
   "execution_count": 60,
   "metadata": {},
   "outputs": [
    {
     "data": {
      "text/plain": [
       "48"
      ]
     },
     "execution_count": 60,
     "metadata": {},
     "output_type": "execute_result"
    }
   ],
   "source": [
    "# functools.reduce(function, iterable[, intializer])\n",
    "\"\"\" \n",
    "将两个参数的 function 从左至右积累地应用到 iterable 的条目，\n",
    "以便将该可迭代对象缩减为单一的值。 \n",
    "例如，reduce(lambda x, y: x+y, [1, 2, 3, 4, 5]) 是计算 ((((1+2)+3)+4)+5) 的值。\n",
    "左边的参数 x 是积累值而右边的参数 y 则是来自 iterable 的更新值。 \n",
    "如果存在可选项 initializer，它会被放在参与计算的可迭代对象的条目之前，\n",
    "并在可迭代对象为空时作为默认值。 \n",
    "如果没有给出 initializer 并且 iterable 仅包含一个条目，则将返回第一项。\n",
    "\"\"\"\n",
    "def reduce(function, iterable, initializer=None):\n",
    "    it = iter(iterable)\n",
    "    if initializer is None:\n",
    "        value = next(it)\n",
    "    else:\n",
    "        value = initializer\n",
    "    for element in it:\n",
    "        value = function(value, element)\n",
    "    return value\n",
    "\n",
    "reduce(lambda x, y: x * y, [1, 2, 3, 4], initializer=2)"
   ]
  },
  {
   "cell_type": "code",
   "execution_count": 66,
   "metadata": {},
   "outputs": [
    {
     "name": "stdout",
     "output_type": "stream",
     "text": [
      "[1, 2, 3]\n",
      "1\n",
      "0 a\n",
      "1 b\n",
      "2 c\n"
     ]
    }
   ],
   "source": [
    "# functools.singledispatch\n",
    "\"\"\" \n",
    "将一个函数转换为 单分派 generic function。\n",
    "要定义一个泛型函数，用装饰器 @singledispatch 来装饰它。\n",
    "当使用 @singledispatch 定义一个函数时，请注意调度发生在第一个参数的类型上:\n",
    "\"\"\"\n",
    "from functools import singledispatch\n",
    "@singledispatch\n",
    "def fun(arg, verbose=False):\n",
    "    if verbose:\n",
    "        print(\"Let me just say,\", end=\" \")\n",
    "    print(arg)\n",
    "\n",
    "fun([1, 2, 3])\n",
    "\"\"\" \n",
    "要将重载的实现添加到函数中，请使用泛型函数的 register() 属性，它可以被用作装饰器。 \n",
    "对于带有类型标注的函数，该装饰器将自动推断第一个参数的类型:\n",
    "\"\"\"\n",
    "@fun.register\n",
    "def _(arg: int, verbose=False):\n",
    "    if verbose:\n",
    "        print(\"Strength in numbers, eh?\", end=\" \")\n",
    "    print(arg)\n",
    "\n",
    "_(1)\n",
    "\n",
    "@fun.register\n",
    "def _(arg: list, verbose=False):\n",
    "    if verbose:\n",
    "        print(\"Enumerate this:\")\n",
    "    for i, elem in enumerate(arg):\n",
    "        print(i, elem)\n",
    "_('abc')"
   ]
  },
  {
   "cell_type": "code",
   "execution_count": 71,
   "metadata": {},
   "outputs": [
    {
     "name": "stdout",
     "output_type": "stream",
     "text": [
      "Calling decorated function\n",
      "Called example function\n"
     ]
    },
    {
     "data": {
      "text/plain": [
       "'example'"
      ]
     },
     "execution_count": 71,
     "metadata": {},
     "output_type": "execute_result"
    }
   ],
   "source": [
    "from functools import wraps\n",
    "def my_decorator(f):\n",
    "    @wraps(f)\n",
    "    def wrapper(*args, **kwds):\n",
    "        print('Calling decorated function')\n",
    "        return f(*args, **kwds)\n",
    "    return wrapper\n",
    "\n",
    "@my_decorator\n",
    "def example():\n",
    "    \"\"\"Docstring\"\"\"\n",
    "    print('Called example function')\n",
    "\n",
    "example()\n",
    "example.__name__"
   ]
  },
  {
   "cell_type": "markdown",
   "metadata": {},
   "source": [
    "## functools\n",
    "### 1. cmp_to_key(func)\n",
    "可以将cmp_to_key(func)传递给那些接受key，关键字参数的函数，sorted()，max()，min()等\n",
    "其中，在func中返回值为正数就交换两者位置，其余情况不发生改变\n",
    "\n",
    "### 2. total_ordering 装饰器\n",
    "定义一个类，只需要实现__eq__() 和 __lt__() 、__le__()、__gt__() 或 __ge__()其中一个\n",
    "就可以实现全比较类。\n",
    "\n",
    "### 3. partial(func, /, *args, **keywords)\n",
    "能够固定某个参数，形成新的函数\n",
    "\n",
    "### 4. reduce(function, iterable[, initializer])\n",
    "将iterable缩减为一个元素\n",
    "\n",
    "### 5. @functools.wraps() 可以保护装饰器内部函数名不发生改变\n",
    "from functools import wraps\n",
    "def my_decorator(f):\n",
    "    @wraps(f)\n",
    "    def wrapper(*args, **kwds):\n",
    "        print('Calling decorated function')\n",
    "        return f(*args, **kwds)\n",
    "    return wrapper\n",
    "\n",
    "@my_decorator\n",
    "def example():\n",
    "    \"\"\"Docstring\"\"\"\n",
    "    print('Called example function')\n",
    "\n",
    "example()\n",
    "\n",
    "\n",
    "example.__name__\n",
    "\n",
    "example.__doc__"
   ]
  }
 ],
 "metadata": {
  "kernelspec": {
   "display_name": "Python 3.8.10 64-bit",
   "language": "python",
   "name": "python3"
  },
  "language_info": {
   "codemirror_mode": {
    "name": "ipython",
    "version": 3
   },
   "file_extension": ".py",
   "mimetype": "text/x-python",
   "name": "python",
   "nbconvert_exporter": "python",
   "pygments_lexer": "ipython3",
   "version": "3.8.10"
  },
  "orig_nbformat": 4,
  "vscode": {
   "interpreter": {
    "hash": "865d8b2eb28e274047ba64063dfb6a2aabf0dfec4905d304d7a76618dae6fdd4"
   }
  }
 },
 "nbformat": 4,
 "nbformat_minor": 2
}
