{
 "cells": [
  {
   "cell_type": "markdown",
   "metadata": {},
   "source": [
    "**无穷迭代器：**\n",
    "\n",
    "| 迭代器                                                       | 实参          | 结果                                  | 示例                                    |\n",
    "| :----------------------------------------------------------- | :------------ | :------------------------------------ | :-------------------------------------- |\n",
    "| [`count()`](https://docs.python.org/zh-cn/3.10/library/itertools.html#itertools.count) | start, [step] | start, start+step, start+2*step, ...  | `count(10) --> 10 11 12 13 14 ...`      |\n",
    "| [`cycle()`](https://docs.python.org/zh-cn/3.10/library/itertools.html#itertools.cycle) | p             | p0, p1, ... plast, p0, p1, ...        | `cycle('ABCD') --> A B C D A B C D ...` |\n",
    "| [`repeat()`](https://docs.python.org/zh-cn/3.10/library/itertools.html#itertools.repeat) | elem [,n]     | elem, elem, elem, ... 重复无限次或n次 | `repeat(10, 3) --> 10 10 10`            |\n",
    "\n",
    "**根据最短输入序列长度停止的迭代器：**\n",
    "\n",
    "| 迭代器                                                       | 实参                        | 结果                                             | 示例                                                       |\n",
    "| :----------------------------------------------------------- | :-------------------------- | :----------------------------------------------- | :--------------------------------------------------------- |\n",
    "| [`accumulate()`](https://docs.python.org/zh-cn/3.10/library/itertools.html#itertools.accumulate) | p [,func]                   | p0, p0+p1, p0+p1+p2, ...                         | `accumulate([1,2,3,4,5]) --> 1 3 6 10 15`                  |\n",
    "| [`chain()`](https://docs.python.org/zh-cn/3.10/library/itertools.html#itertools.chain) | p, q, ...                   | p0, p1, ... plast, q0, q1, ...                   | `chain('ABC', 'DEF') --> A B C D E F`                      |\n",
    "| [`chain.from_iterable()`](https://docs.python.org/zh-cn/3.10/library/itertools.html#itertools.chain.from_iterable) | iterable -- 可迭代对象      | p0, p1, ... plast, q0, q1, ...                   | `chain.from_iterable(['ABC', 'DEF']) --> A B C D E F`      |\n",
    "| [`compress()`](https://docs.python.org/zh-cn/3.10/library/itertools.html#itertools.compress) | data, selectors             | (d[0] if s[0]), (d[1] if s[1]), ...              | `compress('ABCDEF', [1,0,1,0,1,1]) --> A C E F`            |\n",
    "| [`dropwhile()`](https://docs.python.org/zh-cn/3.10/library/itertools.html#itertools.dropwhile) | pred, seq                   | seq[n], seq[n+1], ... 从pred首次真值测试失败开始 | `dropwhile(lambda x: x<5, [1,4,6,4,1]) --> 6 4 1`          |\n",
    "| [`filterfalse()`](https://docs.python.org/zh-cn/3.10/library/itertools.html#itertools.filterfalse) | pred, seq                   | seq中pred(x)为假值的元素，x是seq中的元素。       | `filterfalse(lambda x: x%2, range(10)) --> 0 2 4 6 8`      |\n",
    "| [`groupby()`](https://docs.python.org/zh-cn/3.10/library/itertools.html#itertools.groupby) | iterable[, key]             | 根据key(v)值分组的迭代器                         |                                                            |\n",
    "| [`islice()`](https://docs.python.org/zh-cn/3.10/library/itertools.html#itertools.islice) | seq, [start,] stop [, step] | seq[start:stop:step]中的元素                     | `islice('ABCDEFG', 2, None) --> C D E F G`                 |\n",
    "| [`pairwise()`](https://docs.python.org/zh-cn/3.10/library/itertools.html#itertools.pairwise) | iterable -- 可迭代对象      | (p[0], p[1]), (p[1], p[2])                       | `pairwise('ABCDEFG') --> AB BC CD DE EF FG`                |\n",
    "| [`starmap()`](https://docs.python.org/zh-cn/3.10/library/itertools.html#itertools.starmap) | func, seq                   | func(*seq[0]), func(*seq[1]), ...                | `starmap(pow, [(2,5), (3,2), (10,3)]) --> 32 9 1000`       |\n",
    "| [`takewhile()`](https://docs.python.org/zh-cn/3.10/library/itertools.html#itertools.takewhile) | pred, seq                   | seq[0], seq[1], ..., 直到pred真值测试失败        | `takewhile(lambda x: x<5, [1,4,6,4,1]) --> 1 4`            |\n",
    "| [`tee()`](https://docs.python.org/zh-cn/3.10/library/itertools.html#itertools.tee) | it, n                       | it1, it2, ... itn 将一个迭代器拆分为n个迭代器    |                                                            |\n",
    "| [`zip_longest()`](https://docs.python.org/zh-cn/3.10/library/itertools.html#itertools.zip_longest) | p, q, ...                   | (p[0], q[0]), (p[1], q[1]), ...                  | `zip_longest('ABCD', 'xy', fillvalue='-') --> Ax By C- D-` |\n",
    "\n",
    "**排列组合迭代器：**\n",
    "\n",
    "| 迭代器                                                       | 实参                 | 结果                                  |\n",
    "| :----------------------------------------------------------- | :------------------- | :------------------------------------ |\n",
    "| [`product()`](https://docs.python.org/zh-cn/3.10/library/itertools.html#itertools.product) | p, q, ... [repeat=1] | 笛卡尔积，相当于嵌套的for循环         |\n",
    "| [`permutations()`](https://docs.python.org/zh-cn/3.10/library/itertools.html#itertools.permutations) | p[, r]               | 长度r元组，所有可能的排列，无重复元素 |\n",
    "| [`combinations()`](https://docs.python.org/zh-cn/3.10/library/itertools.html#itertools.combinations) | p, r                 | 长度r元组，有序，无重复元素           |\n",
    "| [`combinations_with_replacement()`](https://docs.python.org/zh-cn/3.10/library/itertools.html#itertools.combinations_with_replacement) | p, r                 | 长度r元组，有序，元素可重复           |\n",
    "\n",
    "| 例子                                       | 结果                                              |\n",
    "| :----------------------------------------- | :------------------------------------------------ |\n",
    "| `product('ABCD', repeat=2)`                | `AA AB AC AD BA BB BC BD CA CB CC CD DA DB DC DD` |\n",
    "| `permutations('ABCD', 2)`                  | `AB AC AD BA BC BD CA CB CD DA DB DC`             |\n",
    "| `combinations('ABCD', 2)`                  | `AB AC AD BC BD CD`                               |\n",
    "| `combinations_with_replacement('ABCD', 2)` | `AA AB AC AD BB BC BD CC CD DD`                   |"
   ]
  },
  {
   "cell_type": "code",
   "execution_count": null,
   "metadata": {},
   "outputs": [],
   "source": [
    "# itertools.accumulate(iterable[, func, *, initial=None])\n",
    "from itertools import accumulate, repeat\n",
    "from functools import reduce\n",
    "import operator\n",
    "\n",
    "list(accumulate([1, 2, 3, 4, 5]))\n",
    "# [1, 3, 6, 10, 15]\n",
    "list(accumulate([1, 2, 3, 4, 5], initial=100))\n",
    "# [100, 101, 103, 106, 110, 115]\n",
    "\n",
    "list(accumulate([1, 2, 3, 4, 5], operator.mul))\n",
    "# [1, 2, 6, 24, 120]"
   ]
  },
  {
   "cell_type": "code",
   "execution_count": null,
   "metadata": {},
   "outputs": [],
   "source": [
    "data = [3, 4, 6, 2, 1, 9, 0, 7, 5, 8]\n",
    "\n",
    "list(accumulate(data, operator.mul))\n",
    "# [3, 12, 72, 144, 144, 1296, 0, 0, 0, 0]\n",
    "\n",
    "list(accumulate(data, max)) \n",
    "# [3, 4, 6, 6, 6, 9, 9, 9, 9, 9]\n",
    "\n",
    "cashflows = [1000, -90, -90, -90, -90]\n",
    "list(accumulate(cashflows, lambda bal, pmt: bal*1.05 + pmt))\n",
    "# [1000, 960.0, 918.0, 873.9000000000001, 827.5950000000001]\n",
    "\n",
    "logistic_map = lambda x, _:  r * x * (1 - x)\n",
    "r = 3.8\n",
    "x0 = 0.4\n",
    "inputs = repeat(x0, 36)\n",
    "[format(x, '.2f') for x in accumulate(inputs, logistic_map)]"
   ]
  },
  {
   "cell_type": "code",
   "execution_count": null,
   "metadata": {},
   "outputs": [],
   "source": [
    "# itertools.chain(*iterables)\n",
    "# 作用：创建一个迭代器，首先返回第一个可迭代对象中所有元素，接着返回下一个对象所有元素\n",
    "def chain(*iterables):\n",
    "    for it in iterables:\n",
    "        for element in it:\n",
    "            yield element\n",
    "list(chain('abc', 'bda'))\n",
    "# ['a', 'b', 'c', 'b', 'd', 'a']\n",
    "\n",
    "# chain.from_iterable(iterable)\n",
    "def from_iterable(iterables):\n",
    "    for it in iterables:\n",
    "        for element in it:\n",
    "            yield element\n",
    "\n",
    "from itertools import chain\n",
    "list(chain.from_iterable(['abc', 'dac']))\n",
    "# ['a', 'b', 'c', 'd', 'a', 'c']\n",
    "# list(chain().from_iterable(['abc', 'dac']))"
   ]
  },
  {
   "cell_type": "code",
   "execution_count": null,
   "metadata": {},
   "outputs": [],
   "source": [
    "# itertools.combinations(iterable, r)\n",
    "# 作用：返回有输入的iterable中元素组成长度为r的子序列。\n",
    "from itertools import combinations, combinations_with_replacement\n",
    "list(combinations('ABCD', 2))\n",
    "# [('A', 'B'), ('A', 'C'), ('A', 'D'), ('B', 'C'), ('B', 'D'), ('C', 'D')]\n",
    "list(combinations(range(4), 3))\n",
    "\n",
    "# itertools.combinations_with_replacement(iterable, r)\n",
    "# 作用：返回有输入的iterable中元素自称的长度为r的子序列，允许每个元素可重复出现。\n",
    "list(combinations_with_replacement('ABC', 2))\n",
    "# [('A', 'A'), ('A', 'B'), ('A', 'C'), ('B', 'B'), ('B', 'C'), ('C', 'C')]\n",
    "combinations_with_replacement('ABC', 2)"
   ]
  },
  {
   "cell_type": "code",
   "execution_count": null,
   "metadata": {},
   "outputs": [],
   "source": [
    "# itertools.compress(data, selectors)\n",
    "# 作用创建一个迭代器，返回data中selector真值测试为True的元素。\n",
    "from itertools import compress\n",
    "list(compress('ABCDEF', [1,0,1,0,1,1]))\n",
    "# ['A', 'C', 'E', 'F']\n",
    "\n",
    "def compress(data, selectors):\n",
    "    return (d for d, s in zip(data, selectors) if s)\n",
    "\n",
    "list(compress('ab1cdf', [1, 0]*3))\n",
    "# ['a', '1', 'd']"
   ]
  },
  {
   "cell_type": "code",
   "execution_count": null,
   "metadata": {},
   "outputs": [],
   "source": [
    "# itertool.count(start=0, step=1)\n",
    "# 作用：创建一个迭代器，从start开始，返回均匀间隔的值。常用于map()中实参生成连续的数据点。还用于zip()函数来添加序列号。\n",
    "def count(start=0, step=1):\n",
    "    n = start\n",
    "    while True:\n",
    "        yield n\n",
    "        n += step\n",
    "count(10)"
   ]
  },
  {
   "cell_type": "code",
   "execution_count": null,
   "metadata": {},
   "outputs": [],
   "source": [
    "# itertools.cycle(iterable)\n",
    "def cycle(iterable):\n",
    "    # cycle('ABCD') --> A B C D A B C D A B C D ...\n",
    "    saved = []\n",
    "    for element in iterable:\n",
    "        yield element\n",
    "        saved.append(element)\n",
    "    while saved:\n",
    "        for element in saved:\n",
    "              yield element"
   ]
  },
  {
   "cell_type": "code",
   "execution_count": null,
   "metadata": {},
   "outputs": [],
   "source": [
    "# itertools.dropwhile(predicate, iterable)\n",
    "# 作用: 创建一个迭代器，如果predicte为true，迭代器丢弃这些元素，然后返回其他元素。\n",
    "def dropwhile(predicate, iterable):\n",
    "    # dropwhile(lambda x: x<5, [1,4,6,4,1]) --> 6 4 1\n",
    "    iterable = iter(iterable)\n",
    "    for x in iterable:\n",
    "        print(x, 1)\n",
    "        if not predicate(x):\n",
    "            print(x, 2)\n",
    "            break\n",
    "    for x in iterable:\n",
    "        print(x, 3)\n",
    "# dropwhile(lambda x: x<5, [1,4,6,4,1])"
   ]
  },
  {
   "cell_type": "code",
   "execution_count": null,
   "metadata": {},
   "outputs": [],
   "source": [
    "# itertools.filterfalse(predicte, iterable)\n",
    "# 作用：创建一个迭代器，只返回iterable中predicate为False的元素。如果predict是None，返回真值测试为Fasle的元素\n",
    "def filterfalse(predicate, iterable):\n",
    "    # filterfalse(lambda x: x%2, range(10)) --> 0 2 4 6 8\n",
    "    if predicate is None:\n",
    "        predicate = bool\n",
    "    for x in iterable:\n",
    "        print(x)\n",
    "        if not predicate(x):\n",
    "            yield x\n",
    "\n",
    "# list(filterfalse(lambda x: x%2==0, range(10)))\n"
   ]
  },
  {
   "cell_type": "code",
   "execution_count": null,
   "metadata": {},
   "outputs": [],
   "source": [
    "class groupby:\n",
    "    # [k for k, g in groupby('AAAABBBCCDAABBB')] --> A B C D A B\n",
    "    # [list(g) for k, g in groupby('AAAABBBCCD')] --> AAAA BBB CC D\n",
    "    def __init__(self, iterable, key=None):\n",
    "        if key is None:\n",
    "            key = lambda x: x\n",
    "        self.keyfunc = key\n",
    "        self.it = iter(iterable)\n",
    "        self.tgtkey = self.currkey = self.currvalue = object()\n",
    "    def __iter__(self):\n",
    "        return self\n",
    "    def __next__(self):\n",
    "        self.id = object()\n",
    "        while self.currkey == self.tgtkey:\n",
    "            self.currvalue = next(self.it)    # Exit on StopIteration\n",
    "            self.currkey = self.keyfunc(self.currvalue)\n",
    "        self.tgtkey = self.currkey\n",
    "        return (self.currkey, self._grouper(self.tgtkey, self.id))\n",
    "    def _grouper(self, tgtkey, id):\n",
    "        while self.id is id and self.currkey == tgtkey:\n",
    "            yield self.currvalue\n",
    "            try:\n",
    "                self.currvalue = next(self.it)\n",
    "            except StopIteration:\n",
    "                return\n",
    "            self.currkey = self.keyfunc(self.currvalue)\n",
    "a = {'a': 2, 'b': 1}\n",
    "# dict(sorted(a.items(), key=lambda x: x[1]))\n",
    "[k for k, g in groupby(sorted('AAAABBBCCDAABBB'))]"
   ]
  },
  {
   "cell_type": "code",
   "execution_count": null,
   "metadata": {},
   "outputs": [],
   "source": [
    "# itertools.islice(iterables, stop)\n",
    "# itertools.islice(iterables, start, stop[, setp])\n",
    "# 作用 创建一个迭代器，返回iterable里选出的元素。如果start不是0，通过iterable中的元素，直到start位置。\n",
    "#之后迭代器连续返回元素，除非 step 设置的值很高导致被跳过。如果 stop 为 None，迭代器耗光为止；否则，在指定的位置停止。与普通的切片不同，islice() 不支持将 start ， stop ，或 step 设为负值。可用来从内部数据结构被压平的数据中提取相关字段（例如一个多行报告，它的名称字段出现在每三行上）。大致相当于：\n",
    "import sys\n",
    "def islice(iterable, *args):\n",
    "    # islice('ABCDEFG', 2) --> A B\n",
    "    # islice('ABCDEFG', 2, 4) --> C D\n",
    "    # islice('ABCDEFG', 2, None) --> C D E F G\n",
    "    # islice('ABCDEFG', 0, None, 2) --> A C E G\n",
    "    s = slice(*args)\n",
    "    start, stop, step = s.start or 0, s.stop or sys.maxsize, s.step or 1\n",
    "    it = iter(range(start, stop, step))\n",
    "    try:\n",
    "        nexti = next(it)\n",
    "    except StopIteration:\n",
    "        # Consume *iterable* up to the *start* position.\n",
    "        for i, element in zip(range(start), iterable):\n",
    "            pass\n",
    "        return\n",
    "    try:\n",
    "        for i, element in enumerate(iterable):\n",
    "            if i == nexti:\n",
    "                yield element\n",
    "                nexti = next(it)\n",
    "    except StopIteration:\n",
    "        # Consume to *stop*.\n",
    "        for i, element in zip(range(i + 1, stop), iterable):\n",
    "            pass\n"
   ]
  },
  {
   "cell_type": "code",
   "execution_count": null,
   "metadata": {},
   "outputs": [],
   "source": [
    "# itertools.pairwise(iterable)\n",
    "# 作用 返回从iterable中获取的连续重叠对。\n",
    "from itertools import tee\n",
    "def pairwise(iterable):\n",
    "    # pairwise('ABCDEFG') --> AB BC CD DE EF FG\n",
    "    a, b = tee(iterable)\n",
    "    next(b, None)\n",
    "    return zip(a, b)\n",
    "for i,j in pairwise('ABCDEFG'):\n",
    "    print(i, j)"
   ]
  },
  {
   "cell_type": "code",
   "execution_count": null,
   "metadata": {},
   "outputs": [],
   "source": [
    "# itertools.permutations(iterable, r=None):\n",
    "# 作用： 连续返回由iterable元素生成长度为r的排列。\n",
    "from itertools import product\n",
    "def permutations(iterable, r=None):\n",
    "    pool = tuple(iterable)\n",
    "    n = len(pool)\n",
    "    r = n if r is None else r\n",
    "    for indices in product(range(n), repeat=r):\n",
    "        if len(set(indices)) == r:\n",
    "            yield tuple(pool[i] for i in indices)\n",
    "list(permutations([1, 2, 3], 2))  \n",
    "# for i in product(range(3), repeat=2):\n",
    "#     if len(set(i)) == 2:\n",
    "#         print(tuple(tuple([1, 2, 3])[ix] for ix in i))"
   ]
  },
  {
   "cell_type": "code",
   "execution_count": null,
   "metadata": {},
   "outputs": [],
   "source": [
    "# itertools.product(*iterables, repeat=1)\n",
    "# 作用返回可迭代对象的笛卡尔积\n",
    "# product(A, B) 和 ((x,y) for x in A for y in B) 返回结果一样。\n",
    "def product(*args, repeat=1):\n",
    "    # product('ABCD', 'xy') --> Ax Ay Bx By Cx Cy Dx Dy\n",
    "    # product(range(2), repeat=3) --> 000 001 010 011 100 101 110 111\n",
    "    pools = [tuple(pool) for pool in args] * repeat\n",
    "    result = [[]]\n",
    "    for pool in pools:\n",
    "        result = [x+[y] for x in result for y in pool]\n",
    "    for prod in result:\n",
    "        yield tuple(prod)\n",
    "\n",
    "list(product('abc', '12'))\n",
    "list(product(range(2), repeat=3))"
   ]
  },
  {
   "cell_type": "code",
   "execution_count": 143,
   "metadata": {},
   "outputs": [
    {
     "data": {
      "text/plain": [
       "[2, 2, 2, 2, 2, 2, 2, 2, 2, 2]"
      ]
     },
     "execution_count": 143,
     "metadata": {},
     "output_type": "execute_result"
    }
   ],
   "source": [
    "# itertools.repeat(object[, times])\n",
    "# 作用：创建一个迭代器不断重复生成object。\n",
    "def repeat(object, times=None):\n",
    "    # repeat(10, 3) --> 10 10 10\n",
    "    if times is None:\n",
    "        while True:\n",
    "            yield object\n",
    "    else:\n",
    "        for i in range(times):\n",
    "            yield object\n",
    "\n",
    "class Dog():\n",
    "    def __init__(self) -> None:\n",
    "        pass\n",
    "list(repeat(10, 3))\n",
    "# list(repeat(Dog(), 3))\n",
    "\n",
    "list(map(pow, range(10), repeat(2, len(range(10)))))"
   ]
  },
  {
   "cell_type": "code",
   "execution_count": 145,
   "metadata": {},
   "outputs": [
    {
     "data": {
      "text/plain": [
       "[32]"
      ]
     },
     "execution_count": 145,
     "metadata": {},
     "output_type": "execute_result"
    }
   ],
   "source": [
    "# itertols.starmap(function, iterable)\n",
    "# 作用：创建一个迭代器，使用从可迭代对象中获取的参数来计算函数。\n",
    "def starmap(function, iterable):\n",
    "    # starmap(pow, [(2,5), (3,2), (10,3)]) --> 32 9 1000\n",
    "    for args in iterable:\n",
    "        yield function(*args)\n",
    "\n",
    "list(starmap(pow, [(2, 5)]))"
   ]
  },
  {
   "cell_type": "code",
   "execution_count": 150,
   "metadata": {},
   "outputs": [
    {
     "data": {
      "text/plain": [
       "[6]"
      ]
     },
     "execution_count": 150,
     "metadata": {},
     "output_type": "execute_result"
    }
   ],
   "source": [
    "# itertools.takewhile(predicate, iterable)\n",
    "# 创建一个迭代器，只要predicate为真就从可迭代对象中返回元素。\n",
    "from itertools import filterfalse\n",
    "def takewhile(predicate, iterable):\n",
    "    # takewhile(lambda x: x<5, [1,4,6,4,1]) --> 1 4\n",
    "    for x in iterable:\n",
    "        if predicate(x):\n",
    "            yield x\n",
    "        else:\n",
    "            break\n",
    "list(takewhile(lambda x: x<5, [1,4,6,4,1]))\n",
    "list(filterfalse(lambda x: x<5, [1,4,6,4,1]))"
   ]
  },
  {
   "cell_type": "code",
   "execution_count": 154,
   "metadata": {},
   "outputs": [
    {
     "data": {
      "text/plain": [
       "[1, 2, 3]"
      ]
     },
     "execution_count": 154,
     "metadata": {},
     "output_type": "execute_result"
    }
   ],
   "source": [
    "# itertools.tee(iterable, n=2)\n",
    "# 从一个可迭代对象返回n个独立的迭代器\n",
    "import collections\n",
    "def tee(iterable, n=2):\n",
    "    it = iter(iterable)\n",
    "    deques = [collections.deque() for i in range(n)]\n",
    "    def gen(mydeque):\n",
    "        while True:\n",
    "            if not mydeque:             # when the local deque is empty\n",
    "                try:\n",
    "                    newval = next(it)   # fetch a new value and\n",
    "                except StopIteration:\n",
    "                    return\n",
    "                for d in deques:        # load it to all the deques\n",
    "                    d.append(newval)\n",
    "            yield mydeque.popleft()\n",
    "    return tuple(gen(d) for d in deques)\n",
    "list(list(tee([1, 2, 3], 2))[1])"
   ]
  },
  {
   "cell_type": "code",
   "execution_count": 185,
   "metadata": {},
   "outputs": [
    {
     "name": "stdout",
     "output_type": "stream",
     "text": [
      "<class 'str'>\n",
      "<class 'str'>\n",
      "<class 'str'>\n",
      "<class 'str'>\n",
      "<class 'str'>\n",
      "<class 'str'>\n",
      "<class 'str'>\n",
      "<class 'str'>\n",
      "<class 'str'>\n",
      "<class 'str'>\n",
      "<class 'str'>\n"
     ]
    },
    {
     "data": {
      "text/plain": [
       "[('a', 'e', '1'), ('b', 'd', '2'), ('c', 'g', '_'), ('d', 'f', '_')]"
      ]
     },
     "execution_count": 185,
     "metadata": {},
     "output_type": "execute_result"
    }
   ],
   "source": [
    "# itertools.zip_longest(*iterables, fillvalue=None)\n",
    "# 创建一个迭代器，从每个可迭代对象中收集元素。如果可迭代对象长度未对齐，将根据fillvalues\n",
    "# 填充缺失值。\n",
    "def zip_longest(*args, fillvalue=None):\n",
    "    # zip_longest('ABCD', 'xy', fillvalue='-') --> Ax By C- D-\n",
    "    iterators = [iter(it) for it in args]\n",
    "    num_active = len(iterators)\n",
    "    if not num_active:\n",
    "        return\n",
    "    while True:\n",
    "        values = []\n",
    "        for i, it in enumerate(iterators):\n",
    "            try:\n",
    "                value = next(it)\n",
    "            except StopIteration:\n",
    "                num_active -= 1\n",
    "                if not num_active:\n",
    "                    return\n",
    "                iterators[i] = repeat(fillvalue)\n",
    "                value = fillvalue\n",
    "            # print(value)\n",
    "            values.append(value)\n",
    "        yield tuple(values)\n",
    "\n",
    "list(zip_longest('abcd', 'edgf', '12', fillvalue='_'))"
   ]
  },
  {
   "cell_type": "code",
   "execution_count": 175,
   "metadata": {},
   "outputs": [
    {
     "name": "stdout",
     "output_type": "stream",
     "text": [
      "([1, 2], [0, 1])\n"
     ]
    }
   ],
   "source": [
    "print(tuple([[1,2], [0, 1]]))"
   ]
  }
 ],
 "metadata": {
  "kernelspec": {
   "display_name": "Python 3.8.10 64-bit",
   "language": "python",
   "name": "python3"
  },
  "language_info": {
   "codemirror_mode": {
    "name": "ipython",
    "version": 3
   },
   "file_extension": ".py",
   "mimetype": "text/x-python",
   "name": "python",
   "nbconvert_exporter": "python",
   "pygments_lexer": "ipython3",
   "version": "3.8.10"
  },
  "orig_nbformat": 4,
  "vscode": {
   "interpreter": {
    "hash": "865d8b2eb28e274047ba64063dfb6a2aabf0dfec4905d304d7a76618dae6fdd4"
   }
  }
 },
 "nbformat": 4,
 "nbformat_minor": 2
}
